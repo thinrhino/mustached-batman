{
 "metadata": {
  "name": "",
  "signature": "sha256:0e89090ed3f6352d0fc0d873e289630a9cd26ce3e6193ec334eb35823edc2d94"
 },
 "nbformat": 3,
 "nbformat_minor": 0,
 "worksheets": [
  {
   "cells": [
    {
     "cell_type": "code",
     "collapsed": false,
     "input": [
      "import matplotlib.pyplot as plt\n",
      "import numpy as np\n",
      "# Generate Data\n",
      "data = np.random.rand(10,6)\n",
      "rows = list('ZYXWVUTSRQ')\n",
      "columns = list('ABCDEF')"
     ],
     "language": "python",
     "metadata": {},
     "outputs": [],
     "prompt_number": 1
    },
    {
     "cell_type": "code",
     "collapsed": false,
     "input": [
      "%matplotlib inline"
     ],
     "language": "python",
     "metadata": {},
     "outputs": [],
     "prompt_number": 2
    },
    {
     "cell_type": "code",
     "collapsed": false,
     "input": [
      "plt.rc('figure', figsize=(8, 6))"
     ],
     "language": "python",
     "metadata": {},
     "outputs": [],
     "prompt_number": 3
    },
    {
     "cell_type": "code",
     "collapsed": false,
     "input": [
      "plt.pcolor(data)\n",
      "plt.xticks(np.arange(0,6)+0.5,columns)\n",
      "plt.yticks(np.arange(0,10)+0.5,rows)\n",
      "plt.show()\n",
      "plt.close()"
     ],
     "language": "python",
     "metadata": {},
     "outputs": [
      {
       "metadata": {},
       "output_type": "display_data",
       "png": "[encoded data removed]",
       "text": [
        "<matplotlib.figure.Figure at 0x10cc26710>"
       ]
      }
     ],
     "prompt_number": 4
    },
    {
     "cell_type": "code",
     "collapsed": false,
     "input": [
      "plt.pcolor(data,cmap=plt.cm.Reds,edgecolors='k')\n",
      "plt.xticks(np.arange(0,6)+0.5,columns)\n",
      "plt.yticks(np.arange(0,10)+0.5,rows)\n",
      "plt.show()\n",
      "plt.close()"
     ],
     "language": "python",
     "metadata": {},
     "outputs": [
      {
       "metadata": {},
       "output_type": "display_data",
       "png": "[encoded data removed]",
       "text": [
        "<matplotlib.figure.Figure at 0x10cc77410>"
       ]
      }
     ],
     "prompt_number": 5
    },
    {
     "cell_type": "code",
     "collapsed": false,
     "input": [
      "f_data = open('ts_data.txt', 'r').readlines()"
     ],
     "language": "python",
     "metadata": {},
     "outputs": [],
     "prompt_number": 6
    },
    {
     "cell_type": "code",
     "collapsed": false,
     "input": [
      "import datetime\n",
      "\n",
      "data_dt = [datetime.datetime.fromtimestamp(float(f_data[i])) for i in range(1, len(f_data))]"
     ],
     "language": "python",
     "metadata": {},
     "outputs": [],
     "prompt_number": 7
    },
    {
     "cell_type": "code",
     "collapsed": false,
     "input": [
      "import pandas as pd\n",
      "pd.set_option('display.notebook_repr_html', False)\n",
      "pd.set_option('display.max_columns', 20)\n",
      "pd.set_option('display.max_rows', 25)"
     ],
     "language": "python",
     "metadata": {},
     "outputs": [],
     "prompt_number": 8
    },
    {
     "cell_type": "code",
     "collapsed": false,
     "input": [
      "df = pd.Series(data_dt, index=data_dt)"
     ],
     "language": "python",
     "metadata": {},
     "outputs": [],
     "prompt_number": 9
    },
    {
     "cell_type": "code",
     "collapsed": false,
     "input": [
      "df"
     ],
     "language": "python",
     "metadata": {},
     "outputs": [
      {
       "metadata": {},
       "output_type": "pyout",
       "prompt_number": 10,
       "text": [
        "2015-02-10 20:14:36   2015-02-10 20:14:36\n",
        "2015-02-10 20:17:01   2015-02-10 20:17:01\n",
        "2015-02-10 07:23:45   2015-02-10 07:23:45\n",
        "2015-02-10 19:27:34   2015-02-10 19:27:34\n",
        "2015-02-10 08:33:33   2015-02-10 08:33:33\n",
        "2015-02-10 21:40:01   2015-02-10 21:40:01\n",
        "2015-02-10 09:44:16   2015-02-10 09:44:16\n",
        "2015-02-10 03:46:50   2015-02-10 03:46:50\n",
        "2015-02-10 15:53:13   2015-02-10 15:53:13\n",
        "2015-02-10 05:57:02   2015-02-10 05:57:02\n",
        "...\n",
        "2015-02-22 01:34:49   2015-02-22 01:34:49\n",
        "2015-02-22 18:41:38   2015-02-22 18:41:38\n",
        "2015-02-22 17:46:33   2015-02-22 17:46:33\n",
        "2015-02-22 05:48:37   2015-02-22 05:48:37\n",
        "2015-02-22 22:50:23   2015-02-22 22:50:23\n",
        "2015-02-22 02:57:55   2015-02-22 02:57:55\n",
        "2015-02-22 23:05:58   2015-02-22 23:05:58\n",
        "2015-02-22 12:07:48   2015-02-22 12:07:48\n",
        "2015-02-22 22:11:55   2015-02-22 22:11:55\n",
        "2015-02-22 14:17:04   2015-02-22 14:17:04\n",
        "2015-02-22 11:20:02   2015-02-22 11:20:02\n",
        "Length: 33275"
       ]
      }
     ],
     "prompt_number": 10
    },
    {
     "cell_type": "code",
     "collapsed": false,
     "input": [
      "a = df.groupby([df.index.day, df.index.hour]).count()\n",
      "a"
     ],
     "language": "python",
     "metadata": {},
     "outputs": [
      {
       "metadata": {},
       "output_type": "pyout",
       "prompt_number": 11,
       "text": [
        "10  0    162\n",
        "    1    177\n",
        "    2    171\n",
        "    3    162\n",
        "    4    153\n",
        "    5    157\n",
        "    6    160\n",
        "    7    154\n",
        "    8    154\n",
        "    9    162\n",
        "...\n",
        "22  13    136\n",
        "    14    115\n",
        "    15    145\n",
        "    16    142\n",
        "    17    129\n",
        "    18    121\n",
        "    19    137\n",
        "    20    141\n",
        "    21    145\n",
        "    22    136\n",
        "    23    124\n",
        "Length: 312, dtype: int64"
       ]
      }
     ],
     "prompt_number": 11
    },
    {
     "cell_type": "code",
     "collapsed": false,
     "input": [
      "df.groupby([df.index.hour]).count().plot()"
     ],
     "language": "python",
     "metadata": {},
     "outputs": [
      {
       "metadata": {},
       "output_type": "pyout",
       "prompt_number": 12,
       "text": [
        "<matplotlib.axes._subplots.AxesSubplot at 0x10cdb0890>"
       ]
      },
      {
       "metadata": {},
       "output_type": "display_data",
       "png": "[encoded data removed]",
       "text": [
        "<matplotlib.figure.Figure at 0x10cdb0190>"
       ]
      }
     ],
     "prompt_number": 12
    },
    {
     "cell_type": "code",
     "collapsed": false,
     "input": [
      "x_data = pd.DataFrame(a)\n",
      "x_data.reset_index(inplace=True)\n",
      "x_data.columns= ['Day', 'Hour', 'Count']"
     ],
     "language": "python",
     "metadata": {},
     "outputs": [],
     "prompt_number": 13
    },
    {
     "cell_type": "code",
     "collapsed": false,
     "input": [
      "p_data = x_data.pivot(index='Hour', columns='Day', values='Count')\n",
      "\n",
      "n_data = pd.DataFrame(p_data, columns=range(11, 21), index=range(0,23))"
     ],
     "language": "python",
     "metadata": {},
     "outputs": [],
     "prompt_number": 14
    },
    {
     "cell_type": "code",
     "collapsed": false,
     "input": [
      "p_data"
     ],
     "language": "python",
     "metadata": {},
     "outputs": [
      {
       "metadata": {},
       "output_type": "pyout",
       "prompt_number": 15,
       "text": [
        "Day    10  11  12   13   14  15   16  17   18   19   20   21   22\n",
        "Hour                                                             \n",
        "0     162  70  19   82  127  59  145  55  130  103  163  136  122\n",
        "1     177  63  15  102  125  61  137  48  117   88  155  162  133\n",
        "2     171  76  21   83  131  66  125  44  114   98  152  142  149\n",
        "3     162  72  17   81  109  53  150  47  120   90  144  153  130\n",
        "4     153  81  20   90  114  57  151  47  137   77  143  169  141\n",
        "5     157  66  21   90  106  55  158  40  141   82  165  155  123\n",
        "6     160  66  10   96  129  53  153  39  131   87  166  167  127\n",
        "7     154  72  27   82  130  52  163  40  133   85  156  159  144\n",
        "8     154  43  17   87  117  67  146  56  125   97  157  174  137\n",
        "9     162  70  18   93  103  61  124  52  142   72  160  157  129\n",
        "10    165  80  19   96  124  59  135  52  140   91  160  168  151\n",
        "11    158  61  23   86  130  66  144  62  121   78  155  171  159\n",
        "12    164  79  18   83  129  65  146  56  144   91  136  148  140\n",
        "13    188  68  16   74  142  72  148  53  143   90  157  156  136\n",
        "14    157  61  18   88  131  67  137  60  111   87  170  164  115\n",
        "15    199  70  26   93  116  71  146  55  105  100  154  150  145\n",
        "16    132  80  15   84  113  61  152  46  135   96  137  161  142\n",
        "17    147  68  17  112  137  60  150  63  132   78  146  142  129\n",
        "18    167  51  24   82  130  53  151  40  127  101  148  173  121\n",
        "19    176  63  20   97  121  64  128  48  122   90  136  181  137\n",
        "20    172  57  24   88  125  61  158  41  128   97  155  158  141\n",
        "21    170  59  24  109  108  60  130  58  127   94  139  162  145\n",
        "22    147  78  19   92   94  43  155  56  118   83  147  204  136\n",
        "23    165  48  17   92  135  62  165  58  156   89  151  177  124"
       ]
      }
     ],
     "prompt_number": 15
    },
    {
     "cell_type": "code",
     "collapsed": false,
     "input": [
      "plt.pcolor(n_data, cmap=plt.cm.Reds,edgecolors='k')\n",
      "plt.yticks(np.arange(0.5, len(n_data.index), 1), n_data.index)\n",
      "plt.xticks(np.arange(0.5, len(n_data.columns), 1), n_data.columns)\n",
      "plt.show()"
     ],
     "language": "python",
     "metadata": {},
     "outputs": [
      {
       "metadata": {},
       "output_type": "display_data",
       "png": "[encoded data removed]",
       "text": [
        "<matplotlib.figure.Figure at 0x10ce09410>"
       ]
      }
     ],
     "prompt_number": 16
    }
   ],
   "metadata": {}
  }
 ]
}